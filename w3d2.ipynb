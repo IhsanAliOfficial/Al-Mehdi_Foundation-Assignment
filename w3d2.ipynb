{
 "cells": [
  {
   "cell_type": "markdown",
   "id": "da0a64b9",
   "metadata": {},
   "source": [
    "1. Accessing Elements by Index (15 mins): \n",
    "Create a list of numbers and print the element at index 3. "
   ]
  },
  {
   "cell_type": "code",
   "execution_count": 1,
   "id": "884f4a47",
   "metadata": {},
   "outputs": [
    {
     "name": "stdout",
     "output_type": "stream",
     "text": [
      "40\n"
     ]
    }
   ],
   "source": [
    "numbers = [10, 20, 30, 40, 50] \n",
    "print(numbers[3]) "
   ]
  },
  {
   "cell_type": "markdown",
   "id": "1a74ae69",
   "metadata": {},
   "source": [
    "2. Negative Indexing (15 mins): \n",
    "Print the last element of a list using negative indexing. "
   ]
  },
  {
   "cell_type": "code",
   "execution_count": 2,
   "id": "6136831d",
   "metadata": {},
   "outputs": [
    {
     "name": "stdout",
     "output_type": "stream",
     "text": [
      "50\n"
     ]
    }
   ],
   "source": [
    "numbers = [10, 20, 30, 40, 50] \n",
    "print(numbers[-1]) "
   ]
  },
  {
   "cell_type": "markdown",
   "id": "9295f118",
   "metadata": {},
   "source": [
    "3. Slicing a List (15 mins): \n",
    "Write a program to print the first three elements of a list using slicing. "
   ]
  },
  {
   "cell_type": "code",
   "execution_count": 3,
   "id": "8d40b29f",
   "metadata": {},
   "outputs": [
    {
     "name": "stdout",
     "output_type": "stream",
     "text": [
      "[10, 20, 30]\n"
     ]
    }
   ],
   "source": [
    "numbers = [10, 20, 30, 40, 50] \n",
    "print(numbers[:3]) "
   ]
  },
  {
   "cell_type": "markdown",
   "id": "3162fb6a",
   "metadata": {},
   "source": [
    "4. Slicing a List from an Index (15 mins): \n",
    "Write a program to print all elements from index 2 to the end of the list. "
   ]
  },
  {
   "cell_type": "code",
   "execution_count": 4,
   "id": "3a9df838",
   "metadata": {},
   "outputs": [
    {
     "name": "stdout",
     "output_type": "stream",
     "text": [
      "[30, 40, 50]\n"
     ]
    }
   ],
   "source": [
    "numbers = [10, 20, 30, 40, 50] \n",
    "print(numbers[2:]) "
   ]
  },
  {
   "cell_type": "markdown",
   "id": "56663d07",
   "metadata": {},
   "source": [
    "5. Slicing a List with Step (15 mins): \n",
    "Write a program to print every second element from the list"
   ]
  },
  {
   "cell_type": "code",
   "execution_count": 5,
   "id": "99bff88c",
   "metadata": {},
   "outputs": [
    {
     "name": "stdout",
     "output_type": "stream",
     "text": [
      "[10, 30, 50]\n"
     ]
    }
   ],
   "source": [
    "numbers = [10, 20, 30, 40, 50] \n",
    "print(numbers[::2]) "
   ]
  },
  {
   "cell_type": "markdown",
   "id": "13af6294",
   "metadata": {},
   "source": [
    "6. Sorting a List (15 mins): \n",
    "Write a Python program that sorts a list of numbers in ascending order. "
   ]
  },
  {
   "cell_type": "code",
   "execution_count": 7,
   "id": "38216722",
   "metadata": {},
   "outputs": [
    {
     "name": "stdout",
     "output_type": "stream",
     "text": [
      "[10, 20, 30, 40, 50, 60]\n"
     ]
    }
   ],
   "source": [
    "numbers = [50, 20, 40, 10, 30] \n",
    "numbers.sort() \n",
    "numbers.append(60)\n",
    "print(numbers) "
   ]
  },
  {
   "cell_type": "markdown",
   "id": "6df75bf9",
   "metadata": {},
   "source": [
    "7. Reversing a List (15 mins): \n",
    "Write a Python program that reverses a list of numbers. "
   ]
  },
  {
   "cell_type": "code",
   "execution_count": 8,
   "id": "d53b2808",
   "metadata": {},
   "outputs": [
    {
     "name": "stdout",
     "output_type": "stream",
     "text": [
      "[50, 40, 30, 20, 10]\n"
     ]
    }
   ],
   "source": [
    "numbers = [10, 20, 30, 40, 50] \n",
    "numbers.reverse() \n",
    "print(numbers) "
   ]
  },
  {
   "cell_type": "markdown",
   "id": "8f8b1687",
   "metadata": {},
   "source": [
    "8. Finding the Length of a List (15 mins): \n",
    "Write a program that prints the length of a list. "
   ]
  },
  {
   "cell_type": "code",
   "execution_count": 9,
   "id": "b16d9be0",
   "metadata": {},
   "outputs": [
    {
     "name": "stdout",
     "output_type": "stream",
     "text": [
      "5\n"
     ]
    }
   ],
   "source": [
    "numbers = [10, 20, 30, 40, 50] \n",
    "print(len(numbers)) "
   ]
  },
  {
   "cell_type": "markdown",
   "id": "cdee03fd",
   "metadata": {},
   "source": [
    "9. Adding Elements to a List (15 mins): \n",
    "Write a program to add a new element at the end of a list using `append()`. "
   ]
  },
  {
   "cell_type": "code",
   "execution_count": 10,
   "id": "b5163307",
   "metadata": {},
   "outputs": [
    {
     "name": "stdout",
     "output_type": "stream",
     "text": [
      "['apple', 'banana', 'cherry', 'orange']\n"
     ]
    }
   ],
   "source": [
    "fruits = ['apple', 'banana', 'cherry'] \n",
    "fruits.append('orange') \n",
    "print(fruits) "
   ]
  },
  {
   "cell_type": "markdown",
   "id": "91a7e24a",
   "metadata": {},
   "source": [
    "10. Removing Elements from a List (15 mins): \n",
    "Write a Python program to remove an element from a list using `remove()`. "
   ]
  },
  {
   "cell_type": "code",
   "execution_count": 11,
   "id": "f71b193b",
   "metadata": {},
   "outputs": [
    {
     "name": "stdout",
     "output_type": "stream",
     "text": [
      "['apple', 'cherry']\n"
     ]
    }
   ],
   "source": [
    "fruits = ['apple', 'banana', 'cherry'] \n",
    "fruits.remove('banana') \n",
    "print(fruits) "
   ]
  },
  {
   "cell_type": "markdown",
   "id": "5f8ed183",
   "metadata": {},
   "source": [
    "11. Inserting an Element at a Specific Position (15 mins): \n",
    "Write a program to insert an element at index 2 in a list. "
   ]
  },
  {
   "cell_type": "code",
   "execution_count": 16,
   "id": "32026e9c",
   "metadata": {},
   "outputs": [
    {
     "name": "stdout",
     "output_type": "stream",
     "text": [
      "[10, 20, 25, 30, 40]\n"
     ]
    }
   ],
   "source": [
    "numbers = [10, 20, 30, 40] \n",
    "numbers.insert(2, 25) \n",
    "print(numbers) "
   ]
  },
  {
   "cell_type": "markdown",
   "id": "89e26329",
   "metadata": {},
   "source": [
    "12. Clearing a List (15 mins): \n",
    "Write a Python program to remove all elements from a list using `clear()`. "
   ]
  },
  {
   "cell_type": "code",
   "execution_count": 17,
   "id": "d27143cb",
   "metadata": {},
   "outputs": [
    {
     "name": "stdout",
     "output_type": "stream",
     "text": [
      "[]\n"
     ]
    }
   ],
   "source": [
    "numbers = [10, 20, 30, 40, 50] \n",
    "numbers.clear() \n",
    "print(numbers) "
   ]
  },
  {
   "cell_type": "markdown",
   "id": "91b76649",
   "metadata": {},
   "source": [
    "13. Checking if an Item Exists in a List (15 mins): \n",
    "Write a program to check if 'banana' is in the list of fruits. "
   ]
  },
  {
   "cell_type": "code",
   "execution_count": 19,
   "id": "8470d8fe",
   "metadata": {},
   "outputs": [
    {
     "name": "stdout",
     "output_type": "stream",
     "text": [
      "Banana is in the list\n"
     ]
    }
   ],
   "source": [
    "fruits = ['apple', 'banana', 'cherry'] \n",
    "if 'banana' in fruits: \n",
    "    print('Banana is in the list') "
   ]
  },
  {
   "cell_type": "markdown",
   "id": "4395f7ef",
   "metadata": {},
   "source": [
    "14. List Comprehension (15 mins): \n",
    "Write a Python program to create a list of squares of numbers from 1 to 5 using list \n",
    "comprehension. "
   ]
  },
  {
   "cell_type": "code",
   "execution_count": 20,
   "id": "ecd09d19",
   "metadata": {},
   "outputs": [
    {
     "name": "stdout",
     "output_type": "stream",
     "text": [
      "[1, 4, 9, 16, 25]\n"
     ]
    }
   ],
   "source": [
    "squares = [x ** 2 for x in range(1, 6)] \n",
    "print(squares) "
   ]
  },
  {
   "cell_type": "markdown",
   "id": "b2f2a284",
   "metadata": {},
   "source": [
    "15. Nested Lists (15 mins): \n",
    "Create a nested list and print the elements of each sublist using a loop."
   ]
  },
  {
   "cell_type": "code",
   "execution_count": 21,
   "id": "4f4cb233",
   "metadata": {},
   "outputs": [
    {
     "name": "stdout",
     "output_type": "stream",
     "text": [
      "[1, 2]\n",
      "[3, 4]\n",
      "[5, 6]\n"
     ]
    }
   ],
   "source": [
    "nested_list = [[1, 2], [3, 4], [5, 6]] \n",
    "for sublist in nested_list: \n",
    "    print(sublist) "
   ]
  }
 ],
 "metadata": {
  "kernelspec": {
   "display_name": "Python 3",
   "language": "python",
   "name": "python3"
  },
  "language_info": {
   "codemirror_mode": {
    "name": "ipython",
    "version": 3
   },
   "file_extension": ".py",
   "mimetype": "text/x-python",
   "name": "python",
   "nbconvert_exporter": "python",
   "pygments_lexer": "ipython3",
   "version": "3.10.4"
  }
 },
 "nbformat": 4,
 "nbformat_minor": 5
}
