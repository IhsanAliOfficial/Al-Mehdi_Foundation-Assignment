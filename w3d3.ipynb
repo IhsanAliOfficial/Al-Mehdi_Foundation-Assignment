{
 "cells": [
  {
   "cell_type": "markdown",
   "id": "81b16d76",
   "metadata": {},
   "source": [
    "1. Creating a Tuple (15 mins): \n",
    "Write a Python program to create a tuple with different data types (e.g., integers, strings)."
   ]
  },
  {
   "cell_type": "code",
   "execution_count": 1,
   "id": "09fa0c42",
   "metadata": {},
   "outputs": [
    {
     "name": "stdout",
     "output_type": "stream",
     "text": [
      "(1, 'apple', 3.5)\n"
     ]
    }
   ],
   "source": [
    "my_tuple = (1, 'apple', 3.5) \n",
    "print(my_tuple) "
   ]
  },
  {
   "cell_type": "markdown",
   "id": "ff0204ae",
   "metadata": {},
   "source": [
    "2. Accessing Tuple Elements (15 mins): \n",
    "Write a Python program to access elements of a tuple using indexing. "
   ]
  },
  {
   "cell_type": "code",
   "execution_count": 2,
   "id": "e529f03c",
   "metadata": {},
   "outputs": [
    {
     "name": "stdout",
     "output_type": "stream",
     "text": [
      "30\n"
     ]
    }
   ],
   "source": [
    "my_tuple = (10, 20, 30, 40) \n",
    "print(my_tuple[2]) "
   ]
  },
  {
   "cell_type": "markdown",
   "id": "68bacfbb",
   "metadata": {},
   "source": [
    "3. Unpacking a Tuple (15 mins): \n",
    "Write a Python program to unpack a tuple into separate variables. "
   ]
  },
  {
   "cell_type": "code",
   "execution_count": 3,
   "id": "54db4963",
   "metadata": {},
   "outputs": [
    {
     "name": "stdout",
     "output_type": "stream",
     "text": [
      "apple banana cherry\n"
     ]
    }
   ],
   "source": [
    "my_tuple = ('apple', 'banana', 'cherry') \n",
    "fruit1, fruit2, fruit3 = my_tuple \n",
    "print(fruit1, fruit2, fruit3) "
   ]
  },
  {
   "cell_type": "markdown",
   "id": "4067599d",
   "metadata": {},
   "source": [
    "4. Tuples are Immutable (15 mins): \n",
    "Try modifying an element in a tuple and observe the result. "
   ]
  },
  {
   "cell_type": "code",
   "execution_count": 8,
   "id": "7958640f",
   "metadata": {},
   "outputs": [
    {
     "name": "stdout",
     "output_type": "stream",
     "text": [
      "(10, 20, 30)\n"
     ]
    }
   ],
   "source": [
    "my_tuple = (10, 20, 30) \n",
    "\n",
    "print(my_tuple)\n",
    "# This will raise an error \n",
    "# my_tuple[0] = 100 "
   ]
  },
  {
   "cell_type": "markdown",
   "id": "a50becae",
   "metadata": {},
   "source": [
    "5. Using Tuples in Functions (15 mins): \n",
    "Write a function `calculate_stats(numbers)` that takes a tuple of numbers and returns the \n",
    "sum and average. "
   ]
  },
  {
   "cell_type": "code",
   "execution_count": 12,
   "id": "c54330a2",
   "metadata": {},
   "outputs": [
    {
     "name": "stdout",
     "output_type": "stream",
     "text": [
      "(60, 20.0)\n"
     ]
    }
   ],
   "source": [
    "def calculate_stats(numbers): \n",
    "    total = sum(numbers) \n",
    "    avg = total / len(numbers) \n",
    "    return total, avg \n",
    "result = calculate_stats((10, 20, 30)) \n",
    "print(result) "
   ]
  },
  {
   "cell_type": "markdown",
   "id": "ad968ada",
   "metadata": {},
   "source": [
    "6. Creating a Dictionary (15 mins): \n",
    "Write a Python program to create a dictionary representing a person with keys `name`, \n",
    "`age`, and `city`. "
   ]
  },
  {
   "cell_type": "code",
   "execution_count": 15,
   "id": "214e1df2",
   "metadata": {},
   "outputs": [
    {
     "name": "stdout",
     "output_type": "stream",
     "text": [
      "{'name': 'moosa', 'age': 30, 'city': 'New York'}\n"
     ]
    }
   ],
   "source": [
    "person = {'name': 'moosa', 'age': 30, 'city': 'New York'} \n",
    "print(person) "
   ]
  },
  {
   "cell_type": "markdown",
   "id": "23521e1f",
   "metadata": {},
   "source": [
    "7. Accessing Dictionary Values (15 mins): \n",
    "Write a Python program to access the value associated with the `name` key in a dictionary. "
   ]
  },
  {
   "cell_type": "code",
   "execution_count": 16,
   "id": "2bfff2df",
   "metadata": {},
   "outputs": [
    {
     "name": "stdout",
     "output_type": "stream",
     "text": [
      "janu\n"
     ]
    }
   ],
   "source": [
    "person = {'name': 'janu', 'age': 30, 'city': 'New York'} \n",
    "print(person['name']) "
   ]
  },
  {
   "cell_type": "markdown",
   "id": "77f1814f",
   "metadata": {},
   "source": [
    "8. Adding Key-Value Pairs to a Dictionary (15 mins): \n",
    "Write a Python program to add a new key-value pair (`email`) to a dictionary. "
   ]
  },
  {
   "cell_type": "code",
   "execution_count": 17,
   "id": "503c2259",
   "metadata": {},
   "outputs": [
    {
     "name": "stdout",
     "output_type": "stream",
     "text": [
      "{'name': 'ali', 'age': 30, 'city': 'New York', 'email': 'alice@example.com'}\n"
     ]
    }
   ],
   "source": [
    "person = {'name': 'ali', 'age': 30, 'city': 'New York'} \n",
    "person['email'] = 'alice@example.com' \n",
    "print(person) "
   ]
  },
  {
   "cell_type": "markdown",
   "id": "680802a8",
   "metadata": {},
   "source": [
    "9. Removing Key-Value Pairs from a Dictionary (15 mins): \n",
    "Write a Python program to remove the `city` key from a dictionary using `del`. "
   ]
  },
  {
   "cell_type": "code",
   "execution_count": 18,
   "id": "b0dc8f88",
   "metadata": {},
   "outputs": [
    {
     "name": "stdout",
     "output_type": "stream",
     "text": [
      "{'name': 'muhammad', 'age': 30}\n"
     ]
    }
   ],
   "source": [
    "person = {'name': 'muhammad', 'age': 30, 'city': 'New York'} \n",
    "del person['city'] \n",
    "print(person) "
   ]
  },
  {
   "cell_type": "markdown",
   "id": "4fc05775",
   "metadata": {},
   "source": [
    "10. Looping Through a Dictionary (15 mins): \n",
    "Write a Python program to loop through a dictionary and print each key and value."
   ]
  },
  {
   "cell_type": "code",
   "execution_count": 20,
   "id": "d5677f7f",
   "metadata": {},
   "outputs": [
    {
     "name": "stdout",
     "output_type": "stream",
     "text": [
      "name: shahban\n",
      "age: 30\n",
      "city: New York\n"
     ]
    }
   ],
   "source": [
    "person = {'name': 'shahban', 'age': 30, 'city': 'New York'} \n",
    "for key, value in person.items(): \n",
    "    print(f'{key}: {value}') "
   ]
  },
  {
   "cell_type": "markdown",
   "id": "195be020",
   "metadata": {},
   "source": [
    "11. Dictionary with Multiple Values (15 mins): \n",
    "Write a Python program to create a dictionary with multiple values for each key (e.g., a list \n",
    "of favorite colors for each person). "
   ]
  },
  {
   "cell_type": "code",
   "execution_count": 22,
   "id": "2b5c8e17",
   "metadata": {},
   "outputs": [
    {
     "name": "stdout",
     "output_type": "stream",
     "text": [
      "{'ali': ['red', 'blue'], 'bablu': ['green', 'yellow']}\n"
     ]
    }
   ],
   "source": [
    "people = {'ali': ['red', 'blue'], 'bablu': ['green', 'yellow']} \n",
    "print(people) "
   ]
  },
  {
   "cell_type": "markdown",
   "id": "76dc8db6",
   "metadata": {},
   "source": [
    "12. Checking for a Key in a Dictionary (15 mins): \n",
    "Write a Python program to check if the key `age` exists in a dictionary. "
   ]
  },
  {
   "cell_type": "code",
   "execution_count": 23,
   "id": "3691059a",
   "metadata": {},
   "outputs": [
    {
     "name": "stdout",
     "output_type": "stream",
     "text": [
      "Age is in the dictionary\n"
     ]
    }
   ],
   "source": [
    "if 'age' in person: \n",
    "    print('Age is in the dictionary') "
   ]
  },
  {
   "cell_type": "markdown",
   "id": "d920b571",
   "metadata": {},
   "source": [
    "13. Merging Two Dictionaries (15 mins): \n",
    "Write a Python program to merge two dictionaries. "
   ]
  },
  {
   "cell_type": "code",
   "execution_count": 25,
   "id": "5ce589d5",
   "metadata": {},
   "outputs": [
    {
     "name": "stdout",
     "output_type": "stream",
     "text": [
      "{'name': 'bablu', 'age': 30, 'city': 'New York', 'email': 'alice@example.com'}\n"
     ]
    }
   ],
   "source": [
    "dict1 = {'name': 'bablu', 'age': 30} \n",
    "dict2 = {'city': 'New York', 'email': 'alice@example.com'} \n",
    "dict1.update(dict2) \n",
    "print(dict1) "
   ]
  },
  {
   "cell_type": "markdown",
   "id": "668da32b",
   "metadata": {},
   "source": [
    "14. Using Dictionaries with Functions (15 mins): \n",
    "Write a function `describe_person(person)` that takes a dictionary representing a person \n",
    "and prints the information. "
   ]
  },
  {
   "cell_type": "code",
   "execution_count": 26,
   "id": "e5722dd5",
   "metadata": {},
   "outputs": [
    {
     "name": "stdout",
     "output_type": "stream",
     "text": [
      "name: janu\n",
      "age: 30\n",
      "city: New York\n"
     ]
    }
   ],
   "source": [
    "def describe_person(person): \n",
    "    for key, value in person.items(): \n",
    "        print(f'{key}: {value}') \n",
    "person = {'name': 'janu', 'age': 30, 'city': 'New York'} \n",
    "describe_person(person) "
   ]
  },
  {
   "cell_type": "markdown",
   "id": "49f40a78",
   "metadata": {},
   "source": [
    "15. Nested Dictionaries (15 mins): \n",
    "Write a Python program to create a dictionary of dictionaries to represent multiple people \n",
    "with their information. "
   ]
  },
  {
   "cell_type": "code",
   "execution_count": 27,
   "id": "0af45a20",
   "metadata": {},
   "outputs": [
    {
     "name": "stdout",
     "output_type": "stream",
     "text": [
      "{'janu': {'age': 30, 'city': 'New York'}, 'Boblu': {'age': 25, 'city': 'Chicago'}}\n"
     ]
    }
   ],
   "source": [
    "people = { \n",
    "'janu': {'age': 30, 'city': 'New York'}, \n",
    "'Boblu': {'age': 25, 'city': 'Chicago'} \n",
    "} \n",
    "print(people) "
   ]
  }
 ],
 "metadata": {
  "kernelspec": {
   "display_name": "Python 3",
   "language": "python",
   "name": "python3"
  },
  "language_info": {
   "codemirror_mode": {
    "name": "ipython",
    "version": 3
   },
   "file_extension": ".py",
   "mimetype": "text/x-python",
   "name": "python",
   "nbconvert_exporter": "python",
   "pygments_lexer": "ipython3",
   "version": "3.10.4"
  }
 },
 "nbformat": 4,
 "nbformat_minor": 5
}
