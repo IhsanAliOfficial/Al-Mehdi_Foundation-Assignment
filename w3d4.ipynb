{
 "cells": [
  {
   "cell_type": "markdown",
   "id": "ab4f4098",
   "metadata": {},
   "source": [
    "1. Simple `try`-`except` Block (15 mins): \n",
    "Write a Python program to handle division by zero using `try` and `except`. "
   ]
  },
  {
   "cell_type": "code",
   "execution_count": 1,
   "id": "9bbf8ec7",
   "metadata": {},
   "outputs": [
    {
     "name": "stdout",
     "output_type": "stream",
     "text": [
      "Division by zero is not allowed.\n"
     ]
    }
   ],
   "source": [
    "try: \n",
    "    result = 10 / 0 \n",
    "except ZeroDivisionError: \n",
    "    print('Division by zero is not allowed.') "
   ]
  },
  {
   "cell_type": "markdown",
   "id": "0b89fea0",
   "metadata": {},
   "source": [
    "2. Handling Multiple Exceptions (15 mins): \n",
    "Write a program to handle division by zero and invalid input using `try`-`except`. "
   ]
  },
  {
   "cell_type": "code",
   "execution_count": 5,
   "id": "400cc78d",
   "metadata": {},
   "outputs": [
    {
     "name": "stdout",
     "output_type": "stream",
     "text": [
      "Invalid input. Please enter a number.\n"
     ]
    }
   ],
   "source": [
    "try: \n",
    "    num = int(input('Enter a number: ')) \n",
    "    result = 10 / num \n",
    "    print(result )\n",
    "except ZeroDivisionError: \n",
    "    print('Cannot divide by zero.') \n",
    "except ValueError: \n",
    "    print('Invalid input. Please enter a number.') "
   ]
  },
  {
   "cell_type": "markdown",
   "id": "561c005d",
   "metadata": {},
   "source": [
    "3. Using `else` with `try` Block (15 mins): \n",
    "Write a program that performs division only if no exceptions occur. "
   ]
  },
  {
   "cell_type": "code",
   "execution_count": null,
   "id": "3bfc94d2",
   "metadata": {},
   "outputs": [],
   "source": [
    "try: \n",
    "    num = int(input('Enter a number: ')) \n",
    "    result = 10 / num \n",
    "except ZeroDivisionError: \n",
    "    print('Cannot divide by zero.') \n",
    "else: \n",
    "    print(f'Result: {result}') "
   ]
  },
  {
   "cell_type": "markdown",
   "id": "a1d25ee0",
   "metadata": {},
   "source": [
    "4. Using `finally` Block (15 mins): \n",
    "Write a program with a `finally` block to ensure a message is printed whether an error \n",
    "occurs or not. "
   ]
  },
  {
   "cell_type": "code",
   "execution_count": null,
   "id": "f84b829d",
   "metadata": {},
   "outputs": [],
   "source": [
    "try: \n",
    "    num = int(input('Enter a number: ')) \n",
    "    result = 10 / num \n",
    "except ZeroDivisionError: \n",
    "    print('Cannot divide by zero.') \n",
    "finally: \n",
    "    print('End of program.') "
   ]
  },
  {
   "cell_type": "markdown",
   "id": "7954c570",
   "metadata": {},
   "source": [
    "5. Raising Exceptions (15 mins): \n",
    "Write a Python program that raises a custom exception when a specific condition is met. "
   ]
  },
  {
   "cell_type": "code",
   "execution_count": null,
   "id": "9a4f54ca",
   "metadata": {},
   "outputs": [],
   "source": [
    "def check_age(age): \n",
    "    if age < 18: \n",
    "        raise ValueError('Age must be at least 18.') \n",
    "    else: \n",
    "        print('Access granted.') \n",
    "try: \n",
    "        check_age(15) \n",
    "except ValueError as e: \n",
    "    print(e) "
   ]
  },
  {
   "cell_type": "markdown",
   "id": "8f3d090d",
   "metadata": {},
   "source": [
    "6. Debugging with Print Statements (15 mins): \n",
    "Write a Python program and insert print statements at different points to trace its \n",
    "execution. "
   ]
  },
  {
   "cell_type": "code",
   "execution_count": null,
   "id": "14671ea5",
   "metadata": {},
   "outputs": [],
   "source": [
    "def multiply(a, b): \n",
    "    print(f'a = {a}, b = {b}') \n",
    "    result = a * b \n",
    "    print(f'Result = {result}') \n",
    "    return result \n",
    "multiply(5, 10) "
   ]
  },
  {
   "cell_type": "markdown",
   "id": "e3335aa5",
   "metadata": {},
   "source": [
    "7. Handling File Not Found Error (15 mins): \n",
    "Write a Python program that handles the `FileNotFoundError` when trying to open a non\n",
    "existent file. "
   ]
  },
  {
   "cell_type": "code",
   "execution_count": null,
   "id": "dcc3f5a7",
   "metadata": {},
   "outputs": [],
   "source": [
    "try: \n",
    "    file = open('non_existent_file.txt') \n",
    "except FileNotFoundError: \n",
    "    print('File not found.')"
   ]
  },
  {
   "cell_type": "markdown",
   "id": "13430ec5",
   "metadata": {},
   "source": [
    "8. Handling Invalid Input in a Loop (15 mins): \n",
    "Write a program that continuously asks for a number until the user provides valid input. "
   ]
  },
  {
   "cell_type": "code",
   "execution_count": null,
   "id": "932671b2",
   "metadata": {},
   "outputs": [],
   "source": [
    "while True: \n",
    "    try: \n",
    "        num = int(input('Enter a number: ')) \n",
    "        break \n",
    "    except ValueError: \n",
    "        print('Invalid input. Please enter a number.') \n",
    "     \n"
   ]
  },
  {
   "cell_type": "markdown",
   "id": "f3663026",
   "metadata": {},
   "source": [
    "9. Catching Multiple Exception Types (15 mins): \n",
    "Write a program that catches both `ValueError` and `ZeroDivisionError`. "
   ]
  },
  {
   "cell_type": "code",
   "execution_count": null,
   "id": "820e480b",
   "metadata": {},
   "outputs": [],
   "source": [
    "try: \n",
    "    num = int(input('Enter a number: ')) \n",
    "    result = 10 / num \n",
    "except (ValueError, ZeroDivisionError): \n",
    "    print('Error: invalid input or division by zero.') "
   ]
  },
  {
   "cell_type": "markdown",
   "id": "840fbf6f",
   "metadata": {},
   "source": [
    "10. Using Assertions (15 mins): \n",
    "Write a Python program that uses assertions to check if a number is positive. "
   ]
  },
  {
   "cell_type": "code",
   "execution_count": null,
   "id": "f3fdc2a3",
   "metadata": {},
   "outputs": [],
   "source": [
    "def check_positive(num): \n",
    "    assert num > 0, 'Number must be positive.' \n",
    "print(f'{num} is positive.') \n",
    "check_positive(10) \n",
    "# check_positive(-5)  # This will raise an AssertionError "
   ]
  },
  {
   "cell_type": "markdown",
   "id": "8e3145e4",
   "metadata": {},
   "source": [
    "11. Custom Exception Handling (15 mins): \n",
    "Create a custom exception `NegativeNumberError` and raise it if a negative number is \n",
    "entered. "
   ]
  },
  {
   "cell_type": "code",
   "execution_count": null,
   "id": "44d5d007",
   "metadata": {},
   "outputs": [],
   "source": [
    "class NegativeNumberError(Exception): \n",
    "    pass \n",
    "try: \n",
    "    num = int(input('Enter a positive number: ')) \n",
    "    if num < 0: \n",
    "        raise NegativeNumberError('Negative number entered.') \n",
    "except NegativeNumberError as e: \n",
    "    print(e) "
   ]
  },
  {
   "cell_type": "markdown",
   "id": "241a4516",
   "metadata": {},
   "source": [
    "12. Using `try`-`except` for Dictionary Lookup (15 mins): \n",
    "Write a program that handles key errors when looking up a key in a dictionary. "
   ]
  },
  {
   "cell_type": "code",
   "execution_count": null,
   "id": "d395e031",
   "metadata": {},
   "outputs": [],
   "source": [
    "my_dict = {'name': 'Alice', 'age': 25} \n",
    "try: \n",
    "    print(my_dict['city']) \n",
    "except KeyError: \n",
    "    print('Key not found in the dictionary.') "
   ]
  },
  {
   "cell_type": "markdown",
   "id": "b5374fad",
   "metadata": {},
   "source": [
    "13. Debugging with the `pdb` Module (15 mins): \n",
    "Use Python's built-in debugger (`pdb`) to debug a simple program."
   ]
  },
  {
   "cell_type": "code",
   "execution_count": null,
   "id": "9d9f4b92",
   "metadata": {},
   "outputs": [
    {
     "name": "stdout",
     "output_type": "stream",
     "text": [
      "> \u001b[1;32mc:\\users\\ihsan ali\\appdata\\local\\temp\\ipykernel_7116\\200084860.py\u001b[0m(4)\u001b[0;36madd\u001b[1;34m()\u001b[0m\n",
      "\n",
      "10\n",
      "20\n"
     ]
    }
   ],
   "source": [
    "import pdb \n",
    "def add(a, b): \n",
    "    pdb.set_trace() \n",
    "    return a + b \n",
    "result = add(10, 20) \n",
    "print(result) "
   ]
  },
  {
   "cell_type": "markdown",
   "id": "9163ec20",
   "metadata": {},
   "source": [
    "14. Catching `IndexError` (15 mins): \n",
    "Write a Python program that handles an `IndexError` when accessing an invalid index in a \n",
    "list. "
   ]
  },
  {
   "cell_type": "code",
   "execution_count": 3,
   "id": "334fafeb",
   "metadata": {},
   "outputs": [
    {
     "name": "stdout",
     "output_type": "stream",
     "text": [
      "3\n"
     ]
    }
   ],
   "source": [
    "my_list = [1, 2, 3] \n",
    "try: \n",
    "    print(my_list[2]) \n",
    "except IndexError: \n",
    "    print('Index out of range.') "
   ]
  },
  {
   "cell_type": "markdown",
   "id": "58f9fa4d",
   "metadata": {},
   "source": [
    "15. Logging Errors (15 mins): \n",
    "Write a Python program that logs error messages to a file using the `logging` module."
   ]
  },
  {
   "cell_type": "code",
   "execution_count": 1,
   "id": "5a904d02",
   "metadata": {},
   "outputs": [],
   "source": [
    "import logging \n",
    "logging.basicConfig(filename='error.log', level=logging.ERROR) \n",
    "try: \n",
    "    result = 10 / 0 \n",
    "except ZeroDivisionError as e: \n",
    "    logging.error('Division by zero occurred.') "
   ]
  },
  {
   "cell_type": "code",
   "execution_count": null,
   "id": "de04ef58",
   "metadata": {},
   "outputs": [],
   "source": [
    "import logging \n",
    "logging.basicConfig(filename='error.log', level=logging.ERROR) \n",
    "try: \n",
    "    result = 10 / 0 "
   ]
  }
 ],
 "metadata": {
  "kernelspec": {
   "display_name": "Python 3",
   "language": "python",
   "name": "python3"
  },
  "language_info": {
   "codemirror_mode": {
    "name": "ipython",
    "version": 3
   },
   "file_extension": ".py",
   "mimetype": "text/x-python",
   "name": "python",
   "nbconvert_exporter": "python",
   "pygments_lexer": "ipython3",
   "version": "3.10.4"
  }
 },
 "nbformat": 4,
 "nbformat_minor": 5
}
